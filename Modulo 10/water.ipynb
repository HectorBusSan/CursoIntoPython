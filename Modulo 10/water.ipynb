{
 "cells": [
  {
   "cell_type": "markdown",
   "metadata": {},
   "source": [
    "## Falta agua?"
   ]
  },
  {
   "cell_type": "code",
   "execution_count": 6,
   "metadata": {},
   "outputs": [
    {
     "data": {
      "text/plain": [
       "'Total water left after 2 days is: -10 liters'"
      ]
     },
     "execution_count": 6,
     "metadata": {},
     "output_type": "execute_result"
    }
   ],
   "source": [
    "def water_left(astronaunt,water_left,days_left):\n",
    "    daily_usage = astronaunt * 11\n",
    "    total_usage= daily_usage * days_left\n",
    "    total_water_left = water_left - total_usage\n",
    "    \n",
    "    # si tenemos poca agua o menor a 0 vamos hacer una exception\n",
    "    # if total_water_left<0:\n",
    "    #    raise RuntimeError(f\"There is not enough water for {astronaunt} astronaunts after {days_left} days!\")\n",
    "    #    nos muestra que no hay sufición agua en el error\n",
    "    \n",
    "    return f\"Total water left after {days_left} days is: {total_water_left} liters\"\n",
    "water_left(5,100,2)"
   ]
  },
  {
   "cell_type": "code",
   "execution_count": 4,
   "metadata": {},
   "outputs": [
    {
     "ename": "RuntimeError",
     "evalue": "There is not enough water for 5 astronaunts after 2 days!",
     "output_type": "error",
     "traceback": [
      "\u001b[1;31m---------------------------------------------------------------------------\u001b[0m",
      "\u001b[1;31mRuntimeError\u001b[0m                              Traceback (most recent call last)",
      "\u001b[1;32mc:\\Users\\Hector\\Documents\\Inovación\\1Mision\\10\\water.ipynb Cell 3'\u001b[0m in \u001b[0;36m<module>\u001b[1;34m\u001b[0m\n\u001b[0;32m      <a href='vscode-notebook-cell:/c%3A/Users/Hector/Documents/Inovaci%C3%B3n/1Mision/10/water.ipynb#ch0000002?line=8'>9</a>\u001b[0m     \u001b[39m#    nos muestra que no hay sufición agua en el error\u001b[39;00m\n\u001b[0;32m     <a href='vscode-notebook-cell:/c%3A/Users/Hector/Documents/Inovaci%C3%B3n/1Mision/10/water.ipynb#ch0000002?line=10'>11</a>\u001b[0m     \u001b[39mreturn\u001b[39;00m \u001b[39mf\u001b[39m\u001b[39m\"\u001b[39m\u001b[39mTotal water left after \u001b[39m\u001b[39m{\u001b[39;00mdays_left\u001b[39m}\u001b[39;00m\u001b[39m days is: \u001b[39m\u001b[39m{\u001b[39;00mtotal_water_left\u001b[39m}\u001b[39;00m\u001b[39m liters\u001b[39m\u001b[39m\"\u001b[39m\n\u001b[1;32m---> <a href='vscode-notebook-cell:/c%3A/Users/Hector/Documents/Inovaci%C3%B3n/1Mision/10/water.ipynb#ch0000002?line=11'>12</a>\u001b[0m water_left(\u001b[39m5\u001b[39;49m,\u001b[39m100\u001b[39;49m,\u001b[39m2\u001b[39;49m)\n",
      "\u001b[1;32mc:\\Users\\Hector\\Documents\\Inovación\\1Mision\\10\\water.ipynb Cell 3'\u001b[0m in \u001b[0;36mwater_left\u001b[1;34m(astronaunt, water_left, days_left)\u001b[0m\n\u001b[0;32m      <a href='vscode-notebook-cell:/c%3A/Users/Hector/Documents/Inovaci%C3%B3n/1Mision/10/water.ipynb#ch0000002?line=5'>6</a>\u001b[0m \u001b[39m# si tenemos poca agua o menor a 0 vamos hacer una exception\u001b[39;00m\n\u001b[0;32m      <a href='vscode-notebook-cell:/c%3A/Users/Hector/Documents/Inovaci%C3%B3n/1Mision/10/water.ipynb#ch0000002?line=6'>7</a>\u001b[0m \u001b[39mif\u001b[39;00m total_water_left\u001b[39m<\u001b[39m\u001b[39m0\u001b[39m:\n\u001b[1;32m----> <a href='vscode-notebook-cell:/c%3A/Users/Hector/Documents/Inovaci%C3%B3n/1Mision/10/water.ipynb#ch0000002?line=7'>8</a>\u001b[0m    \u001b[39mraise\u001b[39;00m \u001b[39mRuntimeError\u001b[39;00m(\u001b[39mf\u001b[39m\u001b[39m\"\u001b[39m\u001b[39mThere is not enough water for \u001b[39m\u001b[39m{\u001b[39;00mastronaunt\u001b[39m}\u001b[39;00m\u001b[39m astronaunts after \u001b[39m\u001b[39m{\u001b[39;00mdays_left\u001b[39m}\u001b[39;00m\u001b[39m days!\u001b[39m\u001b[39m\"\u001b[39m)\n\u001b[0;32m      <a href='vscode-notebook-cell:/c%3A/Users/Hector/Documents/Inovaci%C3%B3n/1Mision/10/water.ipynb#ch0000002?line=8'>9</a>\u001b[0m \u001b[39m#    nos muestra que no hay sufición agua en el error\u001b[39;00m\n\u001b[0;32m     <a href='vscode-notebook-cell:/c%3A/Users/Hector/Documents/Inovaci%C3%B3n/1Mision/10/water.ipynb#ch0000002?line=10'>11</a>\u001b[0m \u001b[39mreturn\u001b[39;00m \u001b[39mf\u001b[39m\u001b[39m\"\u001b[39m\u001b[39mTotal water left after \u001b[39m\u001b[39m{\u001b[39;00mdays_left\u001b[39m}\u001b[39;00m\u001b[39m days is: \u001b[39m\u001b[39m{\u001b[39;00mtotal_water_left\u001b[39m}\u001b[39;00m\u001b[39m liters\u001b[39m\u001b[39m\"\u001b[39m\n",
      "\u001b[1;31mRuntimeError\u001b[0m: There is not enough water for 5 astronaunts after 2 days!"
     ]
    }
   ],
   "source": [
    "def water_left(astronaunt,water_left,days_left):\n",
    "    daily_usage = astronaunt * 11\n",
    "    total_usage= daily_usage * days_left\n",
    "    total_water_left = water_left - total_usage\n",
    "    \n",
    "    # si tenemos poca agua o menor a 0 vamos hacer una exception\n",
    "    if total_water_left<0:\n",
    "       raise RuntimeError(f\"There is not enough water for {astronaunt} astronaunts after {days_left} days!\")\n",
    "    #    nos muestra que no hay sufición agua en el error\n",
    "    \n",
    "    return f\"Total water left after {days_left} days is: {total_water_left} liters\"\n",
    "water_left(5,100,2)"
   ]
  },
  {
   "cell_type": "code",
   "execution_count": 12,
   "metadata": {},
   "outputs": [
    {
     "name": "stdout",
     "output_type": "stream",
     "text": [
      "There is not enough water for 5 astronaunts after 2 days!\n"
     ]
    }
   ],
   "source": [
    "def water_left(astronaunt,water_left,days_left):\n",
    "    daily_usage = astronaunt * 11\n",
    "    total_usage= daily_usage * days_left\n",
    "    total_water_left = water_left - total_usage\n",
    "    \n",
    "    if total_water_left<0:\n",
    "        raise RuntimeError(f\"There is not enough water for {astronaunt} astronaunts after {days_left} days!\")\n",
    "    #    nos muestra que no hay sufición agua en el error\n",
    "\n",
    "    return f\"Total water left after {days_left} days is: {total_water_left} liters\"\n",
    "\n",
    "try:\n",
    "    water_left(5, 100, 2)\n",
    "except RuntimeError as err:\n",
    "    print(err)\n",
    "    # print('hola')\n",
    "    # esto nos da el error de la función en raise"
   ]
  },
  {
   "cell_type": "code",
   "execution_count": 13,
   "metadata": {},
   "outputs": [
    {
     "ename": "TypeError",
     "evalue": "can't multiply sequence by non-int of type 'NoneType'",
     "output_type": "error",
     "traceback": [
      "\u001b[1;31m---------------------------------------------------------------------------\u001b[0m",
      "\u001b[1;31mTypeError\u001b[0m                                 Traceback (most recent call last)",
      "\u001b[1;32mc:\\Users\\Hector\\Documents\\Inovación\\1Mision\\10\\water.ipynb Cell 5'\u001b[0m in \u001b[0;36m<module>\u001b[1;34m\u001b[0m\n\u001b[1;32m----> <a href='vscode-notebook-cell:/c%3A/Users/Hector/Documents/Inovaci%C3%B3n/1Mision/10/water.ipynb#ch0000004?line=0'>1</a>\u001b[0m water_left(\u001b[39m\"\u001b[39;49m\u001b[39m3\u001b[39;49m\u001b[39m\"\u001b[39;49m,\u001b[39m\"\u001b[39;49m\u001b[39m200\u001b[39;49m\u001b[39m\"\u001b[39;49m,\u001b[39mNone\u001b[39;49;00m)\n",
      "\u001b[1;32mc:\\Users\\Hector\\Documents\\Inovación\\1Mision\\10\\water.ipynb Cell 4'\u001b[0m in \u001b[0;36mwater_left\u001b[1;34m(astronaunt, water_left, days_left)\u001b[0m\n\u001b[0;32m      <a href='vscode-notebook-cell:/c%3A/Users/Hector/Documents/Inovaci%C3%B3n/1Mision/10/water.ipynb#ch0000003?line=0'>1</a>\u001b[0m \u001b[39mdef\u001b[39;00m \u001b[39mwater_left\u001b[39m(astronaunt,water_left,days_left):\n\u001b[0;32m      <a href='vscode-notebook-cell:/c%3A/Users/Hector/Documents/Inovaci%C3%B3n/1Mision/10/water.ipynb#ch0000003?line=1'>2</a>\u001b[0m     daily_usage \u001b[39m=\u001b[39m astronaunt \u001b[39m*\u001b[39m \u001b[39m11\u001b[39m\n\u001b[1;32m----> <a href='vscode-notebook-cell:/c%3A/Users/Hector/Documents/Inovaci%C3%B3n/1Mision/10/water.ipynb#ch0000003?line=2'>3</a>\u001b[0m     total_usage\u001b[39m=\u001b[39m daily_usage \u001b[39m*\u001b[39;49m days_left\n\u001b[0;32m      <a href='vscode-notebook-cell:/c%3A/Users/Hector/Documents/Inovaci%C3%B3n/1Mision/10/water.ipynb#ch0000003?line=3'>4</a>\u001b[0m     total_water_left \u001b[39m=\u001b[39m water_left \u001b[39m-\u001b[39m total_usage\n\u001b[0;32m      <a href='vscode-notebook-cell:/c%3A/Users/Hector/Documents/Inovaci%C3%B3n/1Mision/10/water.ipynb#ch0000003?line=5'>6</a>\u001b[0m     \u001b[39mif\u001b[39;00m total_water_left\u001b[39m<\u001b[39m\u001b[39m0\u001b[39m:\n",
      "\u001b[1;31mTypeError\u001b[0m: can't multiply sequence by non-int of type 'NoneType'"
     ]
    }
   ],
   "source": [
    "water_left(\"3\",\"200\",None)\n",
    "# nos sale error ya que teneomos strings y un none\n",
    "# podemos corregir eso con un pequeño arreglo en exception para mostrar el error y solictar que sean int"
   ]
  },
  {
   "cell_type": "code",
   "execution_count": 16,
   "metadata": {},
   "outputs": [],
   "source": [
    "def water_left(astronaunt, water_left, days_left):\n",
    "    for argument in [astronaunt,water_left,days_left]:\n",
    "        try:\n",
    "            # if argument is in int the following operation will work\n",
    "            argument/10\n",
    "        except TypeError:\n",
    "            # TypeError will be a raise only if ir isn't the rigth type\n",
    "            # Raise the same exception but with a better error message\n",
    "            raise TypeError(f\"All argument must be of type int, but received: {argument}\")\n",
    "    daily_usage= astronaunt * 11\n",
    "    total_ussage= daily_usage *days_left\n",
    "    total_water_usage= total_ussage - total_ussage\n",
    "    if total_ussage<0:\n",
    "        raise RuntimeError(f'There is not enough water for {astronaunt} astronaunt after {days_left} days!')\n",
    "    return f'Total water after {days_left} days is {total_water_usage} liters'\n",
    "water_left(\"3\",\"100\",None)"
   ]
  }
 ],
 "metadata": {
  "interpreter": {
   "hash": "38740d3277777e2cd7c6c2cc9d8addf5118fdf3f82b1b39231fd12aeac8aee8b"
  },
  "kernelspec": {
   "display_name": "Python 3.10.2 64-bit",
   "language": "python",
   "name": "python3"
  },
  "language_info": {
   "codemirror_mode": {
    "name": "ipython",
    "version": 3
   },
   "file_extension": ".py",
   "mimetype": "text/x-python",
   "name": "python",
   "nbconvert_exporter": "python",
   "pygments_lexer": "ipython3",
   "version": "3.10.2"
  },
  "orig_nbformat": 4
 },
 "nbformat": 4,
 "nbformat_minor": 2
}
